{
 "cells": [
  {
   "cell_type": "markdown",
   "id": "44618ab8-86ef-410d-9018-9fb7d097b28c",
   "metadata": {},
   "source": [
    "# Data Science Tools and Ecosystem"
   ]
  },
  {
   "cell_type": "markdown",
   "id": "5da3ffdd-db48-4ce7-ad31-4b06054e25fb",
   "metadata": {},
   "source": [
    "#### In this notebook, Data Science Tools and Ecosystem are summarized."
   ]
  },
  {
   "cell_type": "markdown",
   "id": "fa8f5179-befe-4a42-a64a-d67ebfe5468d",
   "metadata": {},
   "source": [
    "## Objectives:\n",
    "* List popular languages in Data Science\n",
    "* Commonly used libraries by Data Scientists\n",
    "* Data Science tools\n",
    "* Simple Arithmetic expressions\n",
    "* Table in Markdowns"
   ]
  },
  {
   "cell_type": "markdown",
   "id": "82a2f33c-5b1c-461e-99e0-9423784aba5f",
   "metadata": {},
   "source": [
    "#### Some of the popular languages that Data Scientists use are:\n",
    "1. Python\n",
    "2. R\n",
    "3. Julia\n",
    "4. Scala\n",
    "5. Java\n",
    "6. C++"
   ]
  },
  {
   "cell_type": "markdown",
   "id": "204999f7-28aa-4e4f-aecf-b6ab2789d871",
   "metadata": {},
   "source": [
    "#### Some of the commonly used libraries used by Data Scientists include:\n",
    "1. Pandas\n",
    "2. Numpy\n",
    "3. Matplotlib\n",
    "4. Skikit-learn\n",
    "5. Tensorflow\n",
    "6. Caret"
   ]
  },
  {
   "cell_type": "markdown",
   "id": "0ed217b3-0498-41fd-a249-84a00996afef",
   "metadata": {},
   "source": [
    "| Data Sciences Tools |\n",
    "|---------------------|\n",
    "| Jupyter |\n",
    "| Rstudio |\n",
    "| Apache Zepplin |\n"
   ]
  },
  {
   "cell_type": "markdown",
   "id": "e02fe48c-270f-4366-abb4-91ece096c29c",
   "metadata": {},
   "source": [
    "### Below are a few examples of evaluating arithmetic expressions in Python\n",
    "x=15+23 <br>\n",
    "print(x)"
   ]
  },
  {
   "cell_type": "code",
   "execution_count": 15,
   "id": "1ed33ea2-ed6c-4e77-9ec6-e85e6444148e",
   "metadata": {},
   "outputs": [
    {
     "data": {
      "text/plain": [
       "17"
      ]
     },
     "execution_count": 15,
     "metadata": {},
     "output_type": "execute_result"
    }
   ],
   "source": [
    "#This a simple arithmetic expression to mutiply then add integers\n",
    "(3*4)+5"
   ]
  },
  {
   "cell_type": "code",
   "execution_count": 23,
   "id": "b59dd819-1356-45cb-b782-e2d7984f60ca",
   "metadata": {},
   "outputs": [
    {
     "name": "stdout",
     "output_type": "stream",
     "text": [
      "3.3333333333333335\n"
     ]
    }
   ],
   "source": [
    "#This will convert 200 minutes to hours by diving by 60\n",
    "minutes=200\n",
    "hours=200/60\n",
    "print(hours)"
   ]
  },
  {
   "cell_type": "markdown",
   "id": "1a7f0ee2-8670-4c16-93fc-e630afba288b",
   "metadata": {},
   "source": [
    "## Author\n",
    "Yug Dahiya"
   ]
  },
  {
   "cell_type": "code",
   "execution_count": null,
   "id": "bf8b6c38-0580-429a-80e9-e98cb08f2a6f",
   "metadata": {},
   "outputs": [],
   "source": []
  }
 ],
 "metadata": {
  "kernelspec": {
   "display_name": "Python [conda env:FirstEnvironment]",
   "language": "python",
   "name": "conda-env-FirstEnvironment-py"
  },
  "language_info": {
   "codemirror_mode": {
    "name": "ipython",
    "version": 3
   },
   "file_extension": ".py",
   "mimetype": "text/x-python",
   "name": "python",
   "nbconvert_exporter": "python",
   "pygments_lexer": "ipython3",
   "version": "3.12.8"
  }
 },
 "nbformat": 4,
 "nbformat_minor": 5
}
